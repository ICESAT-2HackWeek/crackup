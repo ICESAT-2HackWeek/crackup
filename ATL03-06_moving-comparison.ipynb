{
 "cells": [
  {
   "cell_type": "code",
   "execution_count": 37,
   "metadata": {},
   "outputs": [
    {
     "name": "stdout",
     "output_type": "stream",
     "text": [
      "The autoreload extension is already loaded. To reload it, use:\n",
      "  %reload_ext autoreload\n"
     ]
    }
   ],
   "source": [
    "#import packages\n",
    "import os\n",
    "import h5py\n",
    "from glob import glob\n",
    "import numpy as np\n",
    "import matplotlib.pyplot as plt\n",
    "import scipy.signal\n",
    "data_dir='Outputs/'\n",
    "from itertools import islice\n",
    "from scipy import interpolate\n",
    "import pyproj\n",
    "import os,csv\n",
    "import sys\n",
    "module_path = os.path.abspath(os.path.join('..'))\n",
    "if module_path not in sys.path:\n",
    "    sys.path.append(module_path)\n",
    "\n",
    "\n",
    "# make sure we're dealing with the most recent version of any code we're using\n",
    "%load_ext autoreload\n",
    "%autoreload 2\n",
    "%matplotlib widget"
   ]
  },
  {
   "cell_type": "code",
   "execution_count": 38,
   "metadata": {},
   "outputs": [
    {
     "name": "stdout",
     "output_type": "stream",
     "text": [
      "/home/jovyan/crackup/Edgeworth/ /home/jovyan/crackup/shapefiles/edgeworth_simple-polygon.kml\n"
     ]
    }
   ],
   "source": [
    "#read the csv file necessary for looping\n",
    "with open('region.csv') as csvfile:\n",
    "   rows = csv.reader(csvfile)\n",
    "   region = {row[0]:[row[1].strip(),row[2].strip()] for row in rows}   # region name : [datadir, shape filename]\n",
    "   dival = {'dataDir':0,'shapefile':1}\n",
    "\n",
    "reg = 'Edgeworth'\n",
    "dataDir = region[reg][dival['dataDir']]\n",
    "shapef = region[reg][dival['shapefile']]\n",
    "\n",
    "print(dataDir,shapef)"
   ]
  },
  {
   "cell_type": "code",
   "execution_count": 39,
   "metadata": {},
   "outputs": [],
   "source": [
    "#create functions\n",
    "\n",
    "#by Suzanne Dickinson\n",
    "def moving_average(iterable, n):\n",
    "    # create an iterable object from input argument\n",
    "    it = iter(iterable)\n",
    "    piece = list(islice(it, n))\n",
    "    while piece:\n",
    "        yield np.mean(piece), np.median(piece), np.std(piece)\n",
    "        # yield gives back a generator, which needs to be iterated upon to get the info out.\n",
    "        piece = list(islice(it, n))\n",
    "        \n",
    "#from Fernando Paolo & Johan Nilsson's utilities\n",
    "def transform_coord(proj1, proj2, x, y):\n",
    "    \"\"\"Transform coordinates from proj1 to proj2 (EPSG num).\"\"\"\n",
    "    \n",
    "    # Set full EPSG projection strings\n",
    "    proj1 = pyproj.Proj(\"+init=EPSG:\"+proj1)\n",
    "    proj2 = pyproj.Proj(\"+init=EPSG:\"+proj2)\n",
    "    \n",
    "    # Convert coordinates\n",
    "    return pyproj.transform(proj1, proj2, x, y)"
   ]
  },
  {
   "cell_type": "code",
   "execution_count": 44,
   "metadata": {},
   "outputs": [
    {
     "data": {
      "application/vnd.jupyter.widget-view+json": {
       "model_id": "2e0ec7443f6945068fdaa878871ded66",
       "version_major": 2,
       "version_minor": 0
      },
      "text/plain": [
       "FigureCanvasNbAgg()"
      ]
     },
     "metadata": {},
     "output_type": "display_data"
    },
    {
     "data": {
      "application/vnd.jupyter.widget-view+json": {
       "model_id": "f6a3d5fb37bf43b0bc19b0823beef17e",
       "version_major": 2,
       "version_minor": 0
      },
      "text/plain": [
       "FigureCanvasNbAgg()"
      ]
     },
     "metadata": {},
     "output_type": "display_data"
    },
    {
     "name": "stdout",
     "output_type": "stream",
     "text": [
      "beam gt1r\n",
      "698\n",
      "beam gt2r\n",
      "700\n",
      "beam gt3r\n",
      "742\n"
     ]
    }
   ],
   "source": [
    "%matplotlib widget\n",
    "\n",
    "#identify files\n",
    "ATL03_file=glob(dataDir + '*ATL03*.h5')\n",
    "ATL06_file=glob(dataDir + '*ATL06*.h5')\n",
    "beamNum = [1,3,5]\n",
    "\n",
    "for j,fi in enumerate(ATL03_file):\n",
    "    date, rgt, release, ver = fi.split('_')[2:]\n",
    "\n",
    "    for fi6 in ATL06_file:\n",
    "        date6, rgt6, release6, ver6 = fi6.split('_')[2:]\n",
    "        if date==date6 and rgt==rgt6 and release==release6 and ver==ver6:\n",
    "\n",
    "            #read data\n",
    "            f = h5py.File(ATL03_file[0], 'r')  # keep it open\n",
    "            beam = [k for k in f.keys() if k.startswith('gt')]\n",
    "            f6 = h5py.File(ATL06_file[0], 'r')\n",
    "            beam6 = [k for k in f6.keys() if k.startswith('gt')]\n",
    "\n",
    "            #set up dictionary\n",
    "            lookfor = ['delta_time','h_li','h_li_sigma','latitude','longitude','segment_id','sigma_geo_h']\n",
    "\n",
    "            #create base figures\n",
    "            fig1, ax1 = plt.subplots(nrows=2, ncols=1, sharex=True, sharey=True, figsize=(8,8))\n",
    "            fig2, ax2 = plt.subplots(nrows=2, ncols=1, sharex=True, sharey=True, figsize=(8,8))\n",
    "\n",
    "            #pull data and fill-in structures\n",
    "            data = {}\n",
    "            data6 = {}\n",
    "            window = 20 #specify moving window size\n",
    "            for ii,p in enumerate(beamNum):\n",
    "                print('beam',beam[p])\n",
    "                data[beam[p]] = {}\n",
    "                data[beam[p]]['heights'] = {}\n",
    "\n",
    "                for key,val in f[beam[p]]['heights'].items():\n",
    "                    data[beam[p]]['heights'][key] = val[:]\n",
    "\n",
    "                #-- 0=Land; 1=Ocean; 2=SeaIce; 3=LandIce; 4=InlandWater\n",
    "                conf = data[beam[p]]['heights']['signal_conf_ph'][:,3]\n",
    "                lat_ph = np.array(data[beam[p]]['heights']['lat_ph'][conf>=2])\n",
    "                lon_ph = np.array(data[beam[p]]['heights']['lon_ph'][conf>=2])\n",
    "                h_ph   = np.array(data[beam[p]]['heights']['h_ph'][conf>=2])\n",
    "                t_ph   = np.array(data[beam[p]]['heights']['delta_time'][conf>=2])\n",
    "\n",
    "                havg = np.array([])\n",
    "                hmed = np.array([])\n",
    "                hstd= np.array([])\n",
    "                for stats in moving_average(h_ph,window):\n",
    "                    havg = np.append(havg,stats[0])\n",
    "                    hmed = np.append(hmed,stats[1])\n",
    "                    hstd = np.append(hstd,stats[2])\n",
    "\n",
    "                lat_avg = np.array([])\n",
    "                for stats in moving_average(lat_ph,window):\n",
    "                    lat_avg = np.append(lat_avg,stats[0])\n",
    "                lon_avg = np.array([])\n",
    "                for stats in moving_average(lon_ph,window):\n",
    "                    lon_avg = np.append(lon_avg,stats[0])\n",
    "                x_avg, y_avg = transform_coord('4326', '3031', lon_avg, lat_avg)\n",
    "\n",
    "                data6[beam6[p]] = {}\n",
    "                data6[beam6[p]]['land_ice_segments'] = {}\n",
    "\n",
    "                for key,val in f6[beam6[p]]['land_ice_segments'].items():\n",
    "                    if key in lookfor:\n",
    "                        data6[beam6[p]]['land_ice_segments'][key] = val[:]\n",
    "                h_li = data6[beam6[p]]['land_ice_segments']['h_li']\n",
    "                h_li[h_li>3e38]= np.nan\n",
    "                lat_li = data6[beam6[p]]['land_ice_segments']['latitude']\n",
    "                lon_li = data6[beam6[p]]['land_ice_segments']['longitude']\n",
    "                print(len(lon_li))\n",
    "                x_li, y_li = transform_coord('4326', '3031', lon_li, lat_li)\n",
    "\n",
    "                # print(find_nearest(pointlat,photlat[200]))\n",
    "                elev_diff = np.zeros_like(y_avg)\n",
    "                for i,reflat in enumerate(y_avg):\n",
    "                    dist_array = np.sqrt((x_li-x_avg[i])**2 + (y_li-reflat)**2)\n",
    "                    idx = np.where(dist_array == dist_array.min())\n",
    "                #     idx = find_nearest(pointlat,reflat)\n",
    "                #     if np.abs(pointlat[idx]-photlat[i]) <= 20:\n",
    "                    if dist_array[idx] <= 20:\n",
    "                        elev_diff[i] = h_li[idx] - havg[i]\n",
    "                    else:\n",
    "                        elev_diff[i] = np.NaN\n",
    "                #         photlat[i] = 0\n",
    "\n",
    "                if ii<2:\n",
    "                    ax1[ii].plot(lat_ph,h_ph,'.',color=(0.3,0.3,0.3),markersize=0.7,label='ATL03')\n",
    "                    ax1[ii].plot(lat_avg,havg,'r',linewidth=0.8,label='moving average')\n",
    "                    ax1[ii].plot(lat_avg,hmed,'g',linewidth=0.6,label='moving median')\n",
    "                    ax1[ii].plot(lat_avg,havg+hstd,'c--',linewidth=0.3,label='moving stdev')\n",
    "                    ax1[ii].plot(lat_avg,havg-hstd,'c--',linewidth=0.3)\n",
    "                    ax1[ii].plot(lat_li,h_li,'k.',label='ATL06')\n",
    "                    ax1[ii].set_title(beam[p])\n",
    "            #         ax1[ii].set_ylim(0,80)\n",
    "            #         ax1[ii].set_xlim(-64.38,-64.37)\n",
    "\n",
    "                    ax2[ii].plot(lat_avg,elev_diff,'.',color=(0.3,0.3,0.3),markersize=0.7,label='ATL06 minus ATL03')\n",
    "                    ax2[ii].set_title(beam[p])\n",
    "            #         ax2[ii].set_ylim(-10,60)\n",
    "            #         ax2[ii].set_xlim(-64.38,-64.37)\n",
    "\n",
    "            lgd = ax1[0].legend(loc=0,frameon=True)\n",
    "            lgd.get_frame().set_alpha(1.0)\n",
    "            for line in lgd.get_lines():\n",
    "                line.set_linewidth(6)\n",
    "\n",
    "            lgd = ax2[0].legend(loc=2,frameon=True)\n",
    "            lgd.get_frame().set_alpha(1.0)\n",
    "            for line in lgd.get_lines():\n",
    "                line.set_linewidth(6)\n",
    "\n",
    "\n",
    "            plt.show()\n",
    "            f.close()\n",
    "            f6.close()\n",
    "        else:\n",
    "            continue"
   ]
  },
  {
   "cell_type": "code",
   "execution_count": 45,
   "metadata": {},
   "outputs": [
    {
     "name": "stdout",
     "output_type": "stream",
     "text": [
      "Statistics on elevation differences over the full domain\n",
      "Mean ATL06-ATL03 elevations =  0.12  m\n",
      "Median ATL06-ATL03 elevations =  0.08  m\n",
      "St. dev. in ATL06-ATL03 elevations =  1.32  m\n"
     ]
    }
   ],
   "source": [
    "#statistics over the full domain\n",
    "print('Statistics on elevation differences over the full domain')\n",
    "print('Mean ATL06-ATL03 elevations = ',np.around(np.nanmean(elev_diff),2),' m')\n",
    "print('Median ATL06-ATL03 elevations = ',np.around(np.nanmedian(elev_diff),2),' m')\n",
    "print('St. dev. in ATL06-ATL03 elevations = ',np.around(np.nanstd(elev_diff),2),' m')"
   ]
  },
  {
   "cell_type": "code",
   "execution_count": 46,
   "metadata": {},
   "outputs": [
    {
     "name": "stdout",
     "output_type": "stream",
     "text": [
      "Stats over the profile zoom window\n",
      "Mean ATL06-ATL03 elevations =  0.06  m\n",
      "Median ATL06-ATL03 elevations =  0.11  m\n",
      "St. Dev. ATL06-ATL03 elevations =  1.6  m\n"
     ]
    }
   ],
   "source": [
    "#pull out limits of plot and display statistics over that region\n",
    "zoom_lims = ax1[0].get_xlim()\n",
    "# print(zoom_lims)\n",
    "ind_y = np.where((lat_avg>=zoom_lims[0]) & (lat_avg<=zoom_lims[1]))\n",
    "print('Stats over the profile zoom window')\n",
    "print('Mean ATL06-ATL03 elevations = ',np.around(np.nanmean(elev_diff[ind_y]),2),' m')\n",
    "print('Median ATL06-ATL03 elevations = ',np.around(np.nanmedian(elev_diff[ind_y]),2),' m')\n",
    "print('St. Dev. ATL06-ATL03 elevations = ',np.around(np.nanstd(elev_diff[ind_y]),2),' m')"
   ]
  },
  {
   "cell_type": "code",
   "execution_count": null,
   "metadata": {},
   "outputs": [],
   "source": []
  }
 ],
 "metadata": {
  "kernelspec": {
   "display_name": "Python 3",
   "language": "python",
   "name": "python3"
  },
  "language_info": {
   "codemirror_mode": {
    "name": "ipython",
    "version": 3
   },
   "file_extension": ".py",
   "mimetype": "text/x-python",
   "name": "python",
   "nbconvert_exporter": "python",
   "pygments_lexer": "ipython3",
   "version": "3.6.7"
  }
 },
 "nbformat": 4,
 "nbformat_minor": 2
}
