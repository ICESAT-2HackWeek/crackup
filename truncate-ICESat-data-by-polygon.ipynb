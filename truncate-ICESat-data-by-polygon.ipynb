{
 "cells": [
  {
   "cell_type": "code",
   "execution_count": null,
   "metadata": {},
   "outputs": [],
   "source": [
    "#load landsat images\n",
    "!aws --no-sign-request s3 cp s3://pangeo-data-upload-oregon/icesat2/data-access-outputs/LC08_L1GT_217105_20171203_20171207_01_T2_B2.TIF .\n",
    "!aws --no-sign-request s3 cp s3://pangeo-data-upload-oregon/icesat2/data-access-outputs/LC08_L1GT_217105_20171203_20171207_01_T2_B3.TIF .\n",
    "!aws --no-sign-request s3 cp s3://pangeo-data-upload-oregon/icesat2/data-access-outputs/LC08_L1GT_217105_20171203_20171207_01_T2_B4.TIF .\n",
    "# !aws --no-sign-request s3 cp s3://pangeo-data-upload-oregon/icesat2/data-access-outputs/LC08_L1GT_217105_20171203_20171207_01_T2_B8.TIF ."
   ]
  },
  {
   "cell_type": "code",
   "execution_count": null,
   "metadata": {},
   "outputs": [],
   "source": [
    "# #need to add pytables to the environment in terminal b/c it has a prompt!\n",
    "# !conda install -y pytables"
   ]
  },
  {
   "cell_type": "code",
   "execution_count": null,
   "metadata": {},
   "outputs": [],
   "source": [
    "#import packages\n",
    "import os\n",
    "import numpy as np\n",
    "# File manipulation\n",
    "from glob import glob\n",
    "import gdal\n",
    "import h5py\n",
    "import pyproj\n",
    "\n",
    "import matplotlib.pyplot as plt\n",
    "import matplotlib\n",
    "\n",
    "import rasterio as rio\n",
    "import pandas as pd\n",
    "import geopandas as gpd\n",
    "from rasterio.plot import show\n",
    "from shapely.geometry import Point, Polygon\n",
    "\n",
    "#from Fernando Paolo & Johan Nilsson's utilities\n",
    "def transform_coord(proj1, proj2, x, y):\n",
    "    \"\"\"Transform coordinates from proj1 to proj2 (EPSG num).\"\"\"\n",
    "    \n",
    "    # Set full EPSG projection strings\n",
    "    proj1 = pyproj.Proj(\"+init=EPSG:\"+proj1)\n",
    "    proj2 = pyproj.Proj(\"+init=EPSG:\"+proj2)\n",
    "    \n",
    "    # Convert coordinates\n",
    "    return pyproj.transform(proj1, proj2, x, y)"
   ]
  },
  {
   "cell_type": "code",
   "execution_count": null,
   "metadata": {},
   "outputs": [],
   "source": [
    "#load and stack the Landsat bands\n",
    "image1_bands = glob(\"*.TIF\")\n",
    "image1_bands.sort()\n",
    "\n",
    "image1_blue = np.squeeze(rio.open(image1_bands[0]).read())\n",
    "image1_red = np.squeeze(rio.open(image1_bands[2]).read())\n",
    "image1_green = np.squeeze(rio.open(image1_bands[1]).read())\n",
    "#image1_nir = np.squeeze(rio.open(image1_bands[3]).read())\n",
    "    \n",
    "#Normalize bands into 0.0 - 1.0 scale\n",
    "def normalize(array):\n",
    "    array_min, array_max = array.min(), array.max()\n",
    "    return ((array - array_min)/(array_max - array_min))\n",
    "\n",
    "# Normalize band DN\n",
    "blue = normalize(image1_blue)\n",
    "red = normalize(image1_red)\n",
    "green = normalize(image1_green)\n",
    "#nir = normalize(image1_nir)\n",
    "\n",
    "#ndwi = (green - nir)/(green - nir)\n",
    "# Stack bands\n",
    "rgb = np.dstack((red, green, blue))\n",
    "#print(nrg.shape())\n",
    "# View the color composite\n",
    "rgb = rgb.astype(float)\n",
    "#plt.imshow(rgb)\n",
    "#es.plot_bands(image1_blue[0],title=\"Landsat Cropped Band 4\\nColdsprings Fire Scar\",cmap=\"Greys_r\")"
   ]
  },
  {
   "cell_type": "code",
   "execution_count": null,
   "metadata": {},
   "outputs": [],
   "source": [
    "#load metadata\n",
    "tile_path = 'LC08_L1GT_217105_20171203_20171207_01_T2_B2.TIF'\n",
    "Raster = gdal.Open(tile_path)\n",
    "width = Raster.RasterXSize\n",
    "height = Raster.RasterYSize\n",
    "gt = Raster.GetGeoTransform()\n",
    "array = Raster.ReadAsArray()\n",
    "\n",
    "# Pixel numbers\n",
    "x = np.arange(0, width)\n",
    "y = np.arange(0, height)\n",
    "\n",
    "# Grid Cell Coordinates of upper left corner in EPSG:3031 UTM. \n",
    "imX = gt[0] + x * gt[1] \n",
    "imY = gt[3] + y * gt[5]"
   ]
  },
  {
   "cell_type": "code",
   "execution_count": null,
   "metadata": {},
   "outputs": [],
   "source": [
    "# #plot the figure\n",
    "# # %matplotlib widget\n",
    "# %matplotlib inline\n",
    "# fig = plt.figure(figsize=(12,10))\n",
    "# ax = plt.imshow(rgb, extent = [np.min(imX), np.max(imX), np.min(imY), np.max(imY)])\n",
    "# plt.show()"
   ]
  },
  {
   "cell_type": "code",
   "execution_count": null,
   "metadata": {},
   "outputs": [],
   "source": [
    "#crop down the data more to just the RGI polygon\n",
    "ATL_file=glob('/home/jovyan/crackup/Outputs_New/Edgeworth*ATL06*.h5')[0] #adding [0] at the end tells it to pull the first string from the list\n",
    "print(ATL_file)\n",
    "if 'ATL03' in ATL_file:\n",
    "    f = h5py.File(ATL_file, 'r')\n",
    "    beam = [k for k in f.keys() if k.startswith('gt')]\n",
    "    beam = beam[1] #specify the beam\n",
    "    data = {}\n",
    "    data[beam] = {}\n",
    "    data[beam]['heights'] = {}\n",
    "    conf = data[beam]['heights']['signal_conf_ph'][:,3]\n",
    "    lat = data[beam]['heights']['lat_ph']\n",
    "    lon = data[beam]['heights']['lon_ph']\n",
    "    x, y = transform_coord('4326','3031', lon, lat) #convert to Antarctic PS\n",
    "    h = data[beam]['heights']['h_ph']\n",
    "    f.close()\n",
    "else:\n",
    "    f = h5py.File(ATL_file, 'r')\n",
    "    beam6 = [k for k in f.keys() if k.startswith('gt')]\n",
    "    beam6 = beam6[1] #1,3,5 strong vs 0,2,4 weak for now\n",
    "    data6 = {}\n",
    "    data6[beam6] = {}\n",
    "    data6[beam6]['land_ice_segments'] = {}\n",
    "    lookfor = ['delta_time','h_li','h_li_sigma','latitude','longitude','segment_id','sigma_geo_h']\n",
    "    for key,val in f[beam6]['land_ice_segments'].items():\n",
    "       if key in lookfor:\n",
    "            data6[beam6]['land_ice_segments'][key] = val[:]\n",
    "#     print(data6[beam6]['land_ice_segments'].keys())\n",
    "    lat = data6[beam6]['land_ice_segments']['latitude']\n",
    "    lon = data6[beam6]['land_ice_segments']['longitude']\n",
    "    x, y = transform_coord('4326','3031', lon, lat) #convert to Antarctic PS\n",
    "    h = data6[beam6]['land_ice_segments']['h_li']\n",
    "    f.close()\n"
   ]
  },
  {
   "cell_type": "code",
   "execution_count": null,
   "metadata": {},
   "outputs": [],
   "source": [
    "#create a pandas dataframe\n",
    "data_dict = {\n",
    "    'latitude': lat,\n",
    "    'longitude': lon,\n",
    "    'PSy': y,\n",
    "    'PSx': x,\n",
    "    'elev': h}\n",
    "df = pd.DataFrame.from_dict(data_dict)\n",
    "\n",
    "#create a new column called geometry\n",
    "df['geometry'] = list(zip(df['longitude'], df['latitude']))\n",
    "df['geometry'] = df['geometry'].apply(Point)\n"
   ]
  },
  {
   "cell_type": "code",
   "execution_count": null,
   "metadata": {},
   "outputs": [],
   "source": [
    "#create a geodataframe object\n",
    "gdf = gpd.GeoDataFrame(df, crs={'init' :'epsg:4326'})"
   ]
  },
  {
   "cell_type": "code",
   "execution_count": null,
   "metadata": {},
   "outputs": [],
   "source": [
    "#read in the area of interest polygon\n",
    "if 'Edgeworth' in ATL_file:\n",
    "    poly_gdf = gpd.read_file('/home/jovyan/crackup/shapefiles/edgeworth_polygons.shp')\n",
    "    poly_gdf = poly_gdf.set_index('glac_id')\n",
    "else:\n",
    "    poly_gdf = gpd.read_file('/home/jovyan/crackup/shapefiles/georgeVI_meltpond-polygon.shp')\n",
    "    poly_gdf = poly_gdf.set_index('Id_text')\n",
    "poly_gdf.columns"
   ]
  },
  {
   "cell_type": "code",
   "execution_count": null,
   "metadata": {},
   "outputs": [],
   "source": [
    "#merge all the polygons for the glacier (poly_gdf), find where the ICESat data (gdf) intersect the polygon, crop the ICESat data (ATL_roi_gdf)\n",
    "one_poly = poly_gdf.unary_union\n",
    "ATL_roi_gdf_idx = gdf.intersects(one_poly)\n",
    "ATL_roi_gdf = gdf[ATL_roi_gdf_idx]"
   ]
  },
  {
   "cell_type": "code",
   "execution_count": null,
   "metadata": {},
   "outputs": [],
   "source": [
    "# #ONLY DO THIS IF YOU HAVE MULTIPLE GLACIER POLYGONS: merge ICESat2 points w/ polygon\n",
    "# poly_cols = ['area','glac_name','wgms_id','geometry']\n",
    "# ATL_roi_gdf = gpd.sjoin(gdf, poly_gdf[poly_cols], op='intersects', how='inner')\n",
    "# ATL_roi_gdf = ATL_roi_gdf.rename(columns={\"index_right\": \"glac_name\"})"
   ]
  },
  {
   "cell_type": "code",
   "execution_count": null,
   "metadata": {},
   "outputs": [],
   "source": [
    "#pull info from joined data\n",
    "print(\"Number of ATL points before:\", gdf.shape[0])\n",
    "print(\"Number of ATL points that intersect polygons:\", ATL_roi_gdf.shape[0])"
   ]
  },
  {
   "cell_type": "code",
   "execution_count": null,
   "metadata": {},
   "outputs": [],
   "source": [
    "import rasterio.plot\n",
    "f, ax = plt.subplots()\n",
    "ax.imshow(rgb, extent = [np.min(imX), np.max(imX), np.min(imY), np.max(imY)])\n",
    "# gpd.plot(ax=ax, edgecolor='k', lw=0.5, alpha=0.1); #on the same axes, plot the glacier outlines\n",
    "ATL_roi_gdf.plot(ax=ax, column='elev', cmap='RdBu', markersize=1, legend=True) #also plot the dhdt calculated before\n",
    "# ax.set_xlim(bbox[[0,2]]);\n",
    "# ax.set_ylim(bbox[[1,3]]);"
   ]
  },
  {
   "cell_type": "code",
   "execution_count": null,
   "metadata": {},
   "outputs": [],
   "source": []
  }
 ],
 "metadata": {
  "kernelspec": {
   "display_name": "Python 3",
   "language": "python",
   "name": "python3"
  },
  "language_info": {
   "codemirror_mode": {
    "name": "ipython",
    "version": 3
   },
   "file_extension": ".py",
   "mimetype": "text/x-python",
   "name": "python",
   "nbconvert_exporter": "python",
   "pygments_lexer": "ipython3",
   "version": "3.6.7"
  }
 },
 "nbformat": 4,
 "nbformat_minor": 2
}
