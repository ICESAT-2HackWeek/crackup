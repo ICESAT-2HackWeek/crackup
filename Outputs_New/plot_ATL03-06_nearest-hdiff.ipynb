{
 "cells": [
  {
   "cell_type": "markdown",
   "metadata": {},
   "source": []
  },
  {
   "cell_type": "code",
   "execution_count": 2,
   "metadata": {},
   "outputs": [],
   "source": [
    "import os\n",
    "import h5py\n",
    "from glob import glob\n",
    "import numpy as np\n",
    "import matplotlib.pyplot as plt\n",
    "import scipy.signal\n",
    "data_dir='Outputs/'\n",
    "\n",
    "import os\n",
    "import sys\n",
    "module_path = os.path.abspath(os.path.join('..'))\n",
    "if module_path not in sys.path:\n",
    "   sys.path.append(module_path)\n",
    "\n",
    "\n",
    "# make sure we're dealing with the most recent version of any code we're using\n",
    "%load_ext autoreload\n",
    "%autoreload 2"
   ]
  },
  {
   "cell_type": "code",
   "execution_count": 34,
   "metadata": {},
   "outputs": [
    {
     "name": "stdout",
     "output_type": "stream",
     "text": [
      "beam3 gt1r\n",
      "dict_keys(['delta_time', 'dist_ph_across', 'dist_ph_along', 'h_ph', 'lat_ph', 'lon_ph', 'pce_mframe_cnt', 'ph_id_channel', 'ph_id_count', 'ph_id_pulse', 'signal_conf_ph'])\n",
      "['gt1l', 'gt1r', 'gt2l', 'gt2r', 'gt3l', 'gt3r']\n",
      "beam6 gt1r\n",
      "what <KeysViewHDF5 ['atl06_quality_summary', 'bias_correction', 'delta_time', 'dem', 'fit_statistics', 'geophysical', 'ground_track', 'h_li', 'h_li_sigma', 'latitude', 'longitude', 'segment_id', 'sigma_geo_h']>\n",
      "dict_keys(['delta_time', 'h_li', 'h_li_sigma', 'latitude', 'longitude', 'segment_id', 'sigma_geo_h'])\n"
     ]
    },
    {
     "data": {
      "application/vnd.jupyter.widget-view+json": {
       "model_id": "",
       "version_major": 2,
       "version_minor": 0
      },
      "text/plain": [
       "FigureCanvasNbAgg()"
      ]
     },
     "metadata": {},
     "output_type": "display_data"
    }
   ],
   "source": [
    "ATL03_file=glob('/home/jovyan/crackup/Outputs_New/Edgeworth*ATL03*.h5')\n",
    "ATL06_file=glob('/home/jovyan/crackup/Outputs_New/Edgeworth*ATL06*.h5')\n",
    "\n",
    "f = h5py.File(ATL03_file[0], 'r')  # keep it open\n",
    "\n",
    "# Inspect base groups quickly\n",
    "# for group in f.keys() :\n",
    "#     print(group)\n",
    "#     if group.startswith('gt1l'):\n",
    "#         for gg in f[group].keys():\n",
    "#             if gg.startswith('heights'):\n",
    "#                 for dset in f[group][gg].keys():\n",
    "#                     print(dset)\n",
    "\n",
    "# ~code from Ben Smith\n",
    "beam = [k for k in f.keys() if k.startswith('gt')]\n",
    "beam = beam[1]\n",
    "print('beam3',beam)\n",
    "data = {}\n",
    "data[beam] = {}\n",
    "data[beam]['heights'] = {}\n",
    "\n",
    "\n",
    "for key,val in f[beam]['heights'].items():\n",
    "    data[beam]['heights'][key] = val[:]\n",
    "\n",
    "print(data[beam]['heights'].keys())\n",
    "\n",
    "#-- 0=Land; 1=Ocean; 2=SeaIce; 3=LandIce; 4=InlandWater\n",
    "conf = data[beam]['heights']['signal_conf_ph'][:,3]\n",
    "lat_ph = data[beam]['heights']['lat_ph']\n",
    "f.close()\n",
    "\n",
    "f6 = h5py.File(ATL06_file[0], 'r')\n",
    "beam6 = [k for k in f6.keys() if k.startswith('gt')]\n",
    "print(beam6)\n",
    "beam6 = beam6[1] #1,3,5 strong vs 0,2,4 weak\n",
    "print('beam6',beam6)\n",
    "data6 = {}\n",
    "data6[beam6] = {}\n",
    "data6[beam6]['land_ice_segments'] = {}\n",
    "\n",
    "print('what',f6[beam6]['land_ice_segments'].keys())\n",
    "lookfor = ['delta_time','h_li','h_li_sigma','latitude','longitude','segment_id','sigma_geo_h']\n",
    "for key,val in f6[beam6]['land_ice_segments'].items():\n",
    "    if key in lookfor:\n",
    "        data6[beam6]['land_ice_segments'][key] = val[:]\n",
    "    #failed attempt at the 'pythonic' way of filtering\n",
    "#         fv = val.fill_value \n",
    "#         np.ma.array(val[:],mask=(val[:]==fv),fill_value=fv)\n",
    "        \n",
    "        \n",
    "print(data6[beam6]['land_ice_segments'].keys())\n",
    "f6.close()\n",
    "\n",
    "#identify bad values to filter-out\n",
    "bv, = np.nonzero(data6[beam]['land_ice_segments']['h_li'] < 5000) #replace 5000 w/ real no-data value\n",
    "\n",
    "%matplotlib widget\n",
    "fig, ax = plt.subplots()\n",
    "# ax.plot(data[beam]['heights']['lat_ph'][conf==1],data[beam]['heights']['h_ph'][conf==1],'.',color='darkgreen')\n",
    "ax.plot(data[beam]['heights']['lat_ph'][conf==2],data[beam]['heights']['h_ph'][conf==2],'.',color='mediumseagreen')\n",
    "ax.plot(data[beam]['heights']['lat_ph'][conf==3],data[beam]['heights']['h_ph'][conf==3],'.',color='mediumaquamarine')\n",
    "ax.plot(data[beam]['heights']['lat_ph'][conf==4],data[beam]['heights']['h_ph'][conf==4],'.',color='lawngreen')\n",
    "ax.plot(data6[beam]['land_ice_segments']['latitude'][bv],data6[beam]['land_ice_segments']['h_li'][bv],'k-')\n",
    "ax.set_ylim(0,60)\n",
    "ax.set_xlim(-64.41,-64.36)\n",
    "# ax.set_ylim(10,25)\n",
    "# ax.set_xlim(-71.6,-71.4)\n",
    "plt.show()"
   ]
  },
  {
   "cell_type": "code",
   "execution_count": 35,
   "metadata": {},
   "outputs": [
    {
     "data": {
      "application/vnd.jupyter.widget-view+json": {
       "model_id": "50f07cdfaaba41d792e0532ea04a6e32",
       "version_major": 2,
       "version_minor": 0
      },
      "text/plain": [
       "FigureCanvasNbAgg()"
      ]
     },
     "metadata": {},
     "output_type": "display_data"
    }
   ],
   "source": [
    "#try to find the nearest neighbors\n",
    "import numpy as np\n",
    "import math\n",
    "import pyproj\n",
    "\n",
    "#from Fernando Paolo & Johan Nilsson's utilities\n",
    "def transform_coord(proj1, proj2, x, y):\n",
    "    \"\"\"Transform coordinates from proj1 to proj2 (EPSG num).\"\"\"\n",
    "    \n",
    "    # Set full EPSG projection strings\n",
    "    proj1 = pyproj.Proj(\"+init=EPSG:\"+proj1)\n",
    "    proj2 = pyproj.Proj(\"+init=EPSG:\"+proj2)\n",
    "    \n",
    "    # Convert coordinates\n",
    "    return pyproj.transform(proj1, proj2, x, y)\n",
    "\n",
    "def find_nearest(array,value):\n",
    "    idx = np.searchsorted(array, value, side=\"left\")\n",
    "    if idx > 0 and (idx == len(array) or math.fabs(value - array[idx-1]) < math.fabs(value - array[idx])):\n",
    "#         return array[idx-1]\n",
    "        return idx-1\n",
    "    else:\n",
    "#         return array[idx]\n",
    "        return idx\n",
    "\n",
    "#ATL03 data\n",
    "conf = data[beam]['heights']['signal_conf_ph'][:,3]\n",
    "photconf = conf[conf>=2]\n",
    "photlat = data[beam]['heights']['lat_ph'][conf>=2]\n",
    "photlon = data[beam]['heights']['lon_ph'][conf>=2]\n",
    "photx, photy = transform_coord('4326','3031', photlon, photlat) #convert to Antarctic PS\n",
    "photh = data[beam]['heights']['h_ph'][conf>=2]\n",
    "\n",
    "#ATL06 data\n",
    "pointlat = data6[beam]['land_ice_segments']['latitude'][bv]\n",
    "pointlon = data6[beam]['land_ice_segments']['longitude'][bv]\n",
    "pointx, pointy = transform_coord('4326','3031', pointlon, pointlat) #convert to Antarctic PS\n",
    "pointh = data6[beam]['land_ice_segments']['h_li'][bv]\n",
    "\n",
    "\n",
    "# print(find_nearest(pointlat,photlat[200]))\n",
    "elev_diff = np.zeros_like(photy)\n",
    "for i,reflat in enumerate(photy):\n",
    "    dist_array = np.sqrt((pointx-photx[i])**2 + (pointy-reflat)**2)\n",
    "    idx = np.where(dist_array == dist_array.min())\n",
    "#     idx = find_nearest(pointlat,reflat)\n",
    "#     if np.abs(pointlat[idx]-photlat[i]) <= 20:\n",
    "    if dist_array[idx] <= 20:\n",
    "        elev_diff[i] = pointh[idx] - photh[i]\n",
    "    else:\n",
    "        elev_diff[i] = np.NaN\n",
    "        photlat[i] = 0\n",
    "    \n",
    "    \n",
    "# print(np.sum(elev_diff))\n",
    "%matplotlib widget\n",
    "fig, ax = plt.subplots(2,1)\n",
    "# ax[0].plot(data[beam]['heights']['lat_ph'][conf>=2],data[beam]['heights']['h_ph'][conf>=2],'.',color='mediumseagreen')\n",
    "ax[0].plot(photlat[photconf==2],photh[photconf==2],'.',color='mediumseagreen')\n",
    "ax[0].plot(photlat[photconf==3],photh[photconf==3],'.',color='mediumaquamarine')\n",
    "ax[0].plot(photlat[photconf==4],photh[photconf==4],'.',color='lawngreen')\n",
    "ax[0].plot(pointlat,pointh,'k-')\n",
    "ax[0].set_ylim(0,800)\n",
    "ax[0].set_xlim(photlat[np.abs(photlat)>0].min(),photlat[np.abs(photlat)>0].max())\n",
    "ax[1].plot(photlat[photconf==2],elev_diff[photconf==2],'.',color='mediumseagreen')\n",
    "ax[1].plot(photlat[photconf==3],elev_diff[photconf==3],'.',color='mediumaquamarine')\n",
    "ax[1].plot(photlat[photconf==4],elev_diff[photconf==4],'.',color='lawngreen')\n",
    "ax[1].set_ylim(-20,20)\n",
    "ax[1].set_xlim(photlat[np.abs(photlat)>0].min(),photlat[np.abs(photlat)>0].max())\n",
    "plt.show()\n",
    "    "
   ]
  },
  {
   "cell_type": "code",
   "execution_count": null,
   "metadata": {},
   "outputs": [],
   "source": []
  }
 ],
 "metadata": {
  "kernelspec": {
   "display_name": "Python 3",
   "language": "python",
   "name": "python3"
  },
  "language_info": {
   "codemirror_mode": {
    "name": "ipython",
    "version": 3
   },
   "file_extension": ".py",
   "mimetype": "text/x-python",
   "name": "python",
   "nbconvert_exporter": "python",
   "pygments_lexer": "ipython3",
   "version": "3.6.7"
  }
 },
 "nbformat": 4,
 "nbformat_minor": 2
}
