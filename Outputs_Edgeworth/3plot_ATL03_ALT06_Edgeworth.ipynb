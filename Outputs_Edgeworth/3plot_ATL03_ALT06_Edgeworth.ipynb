{
 "cells": [
  {
   "cell_type": "code",
   "execution_count": 1,
   "metadata": {},
   "outputs": [],
   "source": [
    "import os\n",
    "import h5py\n",
    "from glob import glob\n",
    "import numpy as np\n",
    "import matplotlib.pyplot as plt\n",
    "import scipy.signal\n",
    "data_dir='Outputs/'\n",
    "\n",
    "import os\n",
    "import sys\n",
    "module_path = os.path.abspath(os.path.join('..'))\n",
    "if module_path not in sys.path:\n",
    "   sys.path.append(module_path)\n",
    "\n",
    "\n",
    "# make sure we're dealing with the most recent version of any code we're using\n",
    "%load_ext autoreload\n",
    "%autoreload 2"
   ]
  },
  {
   "cell_type": "code",
   "execution_count": 4,
   "metadata": {},
   "outputs": [
    {
     "data": {
      "application/vnd.jupyter.widget-view+json": {
       "model_id": "0aee00fecbc74cddac9ec1c9aae95cbb",
       "version_major": 2,
       "version_minor": 0
      },
      "text/plain": [
       "FigureCanvasNbAgg()"
      ]
     },
     "metadata": {},
     "output_type": "display_data"
    }
   ],
   "source": [
    "ATL03_file=glob('/home/jovyan/crackup/Outputs_Edgeworth/*ATL03*.h5')\n",
    "ATL06_file=glob('/home/jovyan/crackup/Outputs_Edgeworth/*ATL06*.h5')\n",
    "%matplotlib widget\n",
    "beamNum = [1,3,5]\n",
    "ymin = [260,20,60]\n",
    "ymax = [350,200,90]\n",
    "\n",
    "f = h5py.File(ATL03_file[0], 'r')  # keep it open\n",
    "beam = [k for k in f.keys() if k.startswith('gt')]\n",
    "\n",
    "f6 = h5py.File(ATL06_file[0], 'r')\n",
    "beam6 = [k for k in f6.keys() if k.startswith('gt')]\n",
    "\n",
    "lookfor = ['delta_time','h_li','h_li_sigma','latitude','longitude','segment_id','sigma_geo_h']\n",
    "fig, ax = plt.subplots(nrows=3, ncols=1, sharex=True,figsize=(10,8))\n",
    "data = {}\n",
    "data6 = {}\n",
    "\n",
    "for ii,p in enumerate(beamNum):\n",
    "\n",
    "# Extract data from ATL03\n",
    "   data[beam[p]] = {}\n",
    "   data[beam[p]]['heights'] = {}\n",
    "\n",
    "   for key,val in f[beam[p]]['heights'].items():\n",
    "       data[beam[p]]['heights'][key] = val[:]\n",
    "\n",
    "# Assign flag based on confidence level\n",
    "   #-- 0=Land; 1=Ocean; 2=SeaIce; 3=LandIce; 4=InlandWater\n",
    "   conf = data[beam[p]]['heights']['signal_conf_ph'][:,3] #choose column three for LandIce\n",
    "    #-- background and buffer photons\n",
    "   bg = np.nonzero((conf == 0) | (conf == 1))\n",
    "   lc = np.nonzero(conf == 2)\n",
    "   mc = np.nonzero(conf == 3)\n",
    "   hc = np.nonzero(conf == 4)\n",
    "\n",
    "# Extract data from ATL06\n",
    "\n",
    "   #identify bad values to filter-out   data6[beam6[p]] = {}\n",
    "   data6[beam6[p]]['land_ice_segments'] = {}\n",
    "\n",
    "#    print('what',f6[beam6[p]]['land_ice_segments'].keys())\n",
    "   for key,val in f6[beam6[p]]['land_ice_segments'].items():\n",
    "       if key in lookfor:\n",
    "           data6[beam6[p]]['land_ice_segments'][key] = val[:]\n",
    "   bv = np.nonzero(data6[beam6[p]]['land_ice_segments']['h_li'] < 5000) #replace 5000 w/ real no-data value\n",
    "\n",
    "#  Shorten variable names\n",
    "   D3x = data[beam[p]]['heights']['lat_ph']\n",
    "   D3y = data[beam[p]]['heights']['h_ph']\n",
    "   D6x = data6[beam6[p]]['land_ice_segments']['latitude'][bv]\n",
    "   D6y = data6[beam6[p]]['land_ice_segments']['h_li'][bv]\n",
    "\n",
    "#    ax[ii].plot(data[beam[p]]['heights']['delta_time'][conf>=2],data[beam[p]]['heights']['h_ph'][conf>=2],'k.',markersize=0.1)\n",
    "#    ax[ii].plot(D3x[bg],D3y[bg],marker='.',lw=0,markersize=0.1,color='gray',label='Background')\n",
    "   ax[ii].plot(D3x[lc],D3y[lc],marker='.',lw=0,markersize=0.1,color='darkorange',label='Low Confidence')\n",
    "   ax[ii].plot(D3x[mc],D3y[mc],marker='.',lw=0,markersize=0.2,color='mediumseagreen',label='Medium Confidence')\n",
    "   ax[ii].plot(D3x[hc],D3y[hc],marker='.',lw=0,markersize=0.3,color='darkorchid',label='High Confidence')\n",
    "   ax[ii].plot(D6x,D6y,'r:',lw=1.5,label='ATL06 Surface')\n",
    "\n",
    "\n",
    "#  labels & limits\n",
    "   ax[ii].set_title('Beam ' + str(ii+1))\n",
    "   ax[ii].set_ylim(ymin[ii],ymax[ii])\n",
    "   ax[ii].set_xlim(-64.35,-64.32)\n",
    "   ax[ii].set_ylabel('Elevation (m)')\n",
    "    \n",
    "ax[ii].set_xlabel('Latitude (dec degrees)')\n",
    "lgd = ax[0].legend(loc=0,frameon=False)\n",
    "lgd.get_frame().set_alpha(1.0)\n",
    "for line in lgd.get_lines():\n",
    "    line.set_linewidth(6)\n",
    "plt.show()\n",
    "f.close()\n",
    "f6.close()\n"
   ]
  },
  {
   "cell_type": "code",
   "execution_count": 44,
   "metadata": {},
   "outputs": [
    {
     "name": "stdout",
     "output_type": "stream",
     "text": [
      "60.276756\n",
      "273.85233\n",
      "689.1527\n"
     ]
    }
   ],
   "source": [
    "print(np.min(D6y))\n",
    "print(np.mean(D6y))\n",
    "print(np.max(D6y))"
   ]
  },
  {
   "cell_type": "code",
   "execution_count": 51,
   "metadata": {},
   "outputs": [
    {
     "data": {
      "text/plain": [
       "55"
      ]
     },
     "execution_count": 51,
     "metadata": {},
     "output_type": "execute_result"
    }
   ],
   "source": [
    "ymin[1]"
   ]
  },
  {
   "cell_type": "code",
   "execution_count": null,
   "metadata": {},
   "outputs": [],
   "source": []
  }
 ],
 "metadata": {
  "kernelspec": {
   "display_name": "Python 3",
   "language": "python",
   "name": "python3"
  },
  "language_info": {
   "codemirror_mode": {
    "name": "ipython",
    "version": 3
   },
   "file_extension": ".py",
   "mimetype": "text/x-python",
   "name": "python",
   "nbconvert_exporter": "python",
   "pygments_lexer": "ipython3",
   "version": "3.6.7"
  }
 },
 "nbformat": 4,
 "nbformat_minor": 2
}
