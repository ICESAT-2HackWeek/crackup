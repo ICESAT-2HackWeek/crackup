{
 "cells": [
  {
   "cell_type": "markdown",
   "metadata": {},
   "source": [
    "# Landsat images access\n",
    "ALB 6/20/2019"
   ]
  },
  {
   "cell_type": "code",
   "execution_count": 9,
   "metadata": {},
   "outputs": [
    {
     "name": "stdout",
     "output_type": "stream",
     "text": []
    },
    {
     "name": "stdout",
     "output_type": "stream",
     "text": []
    },
    {
     "name": "stdout",
     "output_type": "stream",
     "text": []
    },
    {
     "name": "stdout",
     "output_type": "stream",
     "text": []
    },
    {
     "name": "stdout",
     "output_type": "stream",
     "text": []
    },
    {
     "name": "stdout",
     "output_type": "stream",
     "text": []
    },
    {
     "name": "stdout",
     "output_type": "stream",
     "text": []
    },
    {
     "name": "stdout",
     "output_type": "stream",
     "text": []
    },
    {
     "name": "stdout",
     "output_type": "stream",
     "text": []
    },
    {
     "name": "stdout",
     "output_type": "stream",
     "text": []
    },
    {
     "name": "stdout",
     "output_type": "stream",
     "text": []
    },
    {
     "name": "stdout",
     "output_type": "stream",
     "text": []
    },
    {
     "name": "stdout",
     "output_type": "stream",
     "text": []
    },
    {
     "name": "stdout",
     "output_type": "stream",
     "text": []
    },
    {
     "name": "stdout",
     "output_type": "stream",
     "text": []
    },
    {
     "name": "stdout",
     "output_type": "stream",
     "text": []
    },
    {
     "name": "stdout",
     "output_type": "stream",
     "text": []
    },
    {
     "name": "stdout",
     "output_type": "stream",
     "text": []
    },
    {
     "name": "stdout",
     "output_type": "stream",
     "text": []
    },
    {
     "name": "stdout",
     "output_type": "stream",
     "text": [
      "download: s3://pangeo-data-upload-oregon/icesat2/data-access-outputs/LC08_L1GT_033116_20180127_20180207_01_T2_B7.TIF to ./LC08_L1GT_033116_20180127_20180207_01_T2_B7.TIF\n"
     ]
    }
   ],
   "source": [
    "!aws --no-sign-request s3 cp s3://pangeo-data-upload-oregon/icesat2/data-access-outputs/LC08_L1GT_033116_20180127_20180207_01_T2_B7.TIF ./"
   ]
  },
  {
   "cell_type": "markdown",
   "metadata": {},
   "source": [
    "## General instructions for adding images to the right space and directory:\n",
    "\n",
    "We are using landsat scene LC08_L1GT_033116_20180127_20180207_01_T2.\n",
    "\n",
    "In general, to open a landsat image we first need to upload it to the s3 bucket.\n",
    "\n",
    "### need to chnage upload size: in the terminal, type the following:\n",
    "\n",
    "aws configure set default.s3.multipart_threshold 5000MB\n",
    "\n",
    "### in the terminal on your computer, type in : \n",
    "\n",
    "aws --no-sign-request s3 sync ./LC08_L1GT_033116_20180127_20180207_01_T2/ s3://pangeo-data-upload-oregon/icesat2/data-access-outputs/ \n",
    "\n",
    "\"--no-sign-request\" means you don't need to sign in. \"./LC08.....\" is the path to the data, and \"s3://........\" is the path to the s3 bucket.\n",
    "\n",
    "### Now to download it, open the terminal in jupyter labs and type:\n",
    "\n",
    "aws --no-sign-request s3 cp s3://pangeo-data-upload-oregon/icesat2/data-access-outputs/LC08_L1GT_033116_20180127_20180207_01_T2_B8.tif ./\n",
    "\n",
    "Get the bands that you want.  It's best to do this one by one, although it would be nice to find a way to get an entire folder..."
   ]
  }
 ],
 "metadata": {
  "kernelspec": {
   "display_name": "Python 3",
   "language": "python",
   "name": "python3"
  },
  "language_info": {
   "codemirror_mode": {
    "name": "ipython",
    "version": 3
   },
   "file_extension": ".py",
   "mimetype": "text/x-python",
   "name": "python",
   "nbconvert_exporter": "python",
   "pygments_lexer": "ipython3",
   "version": "3.6.7"
  }
 },
 "nbformat": 4,
 "nbformat_minor": 2
}
